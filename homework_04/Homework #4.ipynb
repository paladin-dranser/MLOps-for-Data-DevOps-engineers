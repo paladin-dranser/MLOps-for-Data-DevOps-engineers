{
 "cells": [
  {
   "cell_type": "code",
   "execution_count": 1,
   "id": "bab8d7ac",
   "metadata": {},
   "outputs": [
    {
     "name": "stdout",
     "output_type": "stream",
     "text": [
      "scikit-learn==1.5.2\r\n",
      "scikit-learn-intelex==2021.20220215.212715\r\n"
     ]
    }
   ],
   "source": [
    "!pip freeze | grep scikit-learn"
   ]
  },
  {
   "cell_type": "code",
   "execution_count": 2,
   "id": "491b37f6",
   "metadata": {},
   "outputs": [
    {
     "name": "stdout",
     "output_type": "stream",
     "text": [
      "Python 3.9.12\r\n"
     ]
    }
   ],
   "source": [
    "!python -V"
   ]
  },
  {
   "cell_type": "code",
   "execution_count": 3,
   "id": "2ba426bd",
   "metadata": {},
   "outputs": [
    {
     "name": "stderr",
     "output_type": "stream",
     "text": [
      "/home/cloud_user/anaconda3/lib/python3.9/site-packages/pandas/core/computation/expressions.py:21: UserWarning: Pandas requires version '2.8.4' or newer of 'numexpr' (version '2.8.1' currently installed).\n",
      "  from pandas.core.computation.check import NUMEXPR_INSTALLED\n",
      "/home/cloud_user/anaconda3/lib/python3.9/site-packages/pandas/core/arrays/masked.py:60: UserWarning: Pandas requires version '1.3.6' or newer of 'bottleneck' (version '1.3.4' currently installed).\n",
      "  from pandas.core import (\n"
     ]
    }
   ],
   "source": [
    "import pickle\n",
    "import pandas as pd"
   ]
  },
  {
   "cell_type": "code",
   "execution_count": 6,
   "id": "f577e654",
   "metadata": {},
   "outputs": [
    {
     "name": "stderr",
     "output_type": "stream",
     "text": [
      "/home/cloud_user/anaconda3/lib/python3.9/site-packages/sklearn/base.py:376: InconsistentVersionWarning: Trying to unpickle estimator DictVectorizer from version 1.5.0 when using version 1.5.2. This might lead to breaking code or invalid results. Use at your own risk. For more info please refer to:\n",
      "https://scikit-learn.org/stable/model_persistence.html#security-maintainability-limitations\n",
      "  warnings.warn(\n",
      "/home/cloud_user/anaconda3/lib/python3.9/site-packages/sklearn/base.py:376: InconsistentVersionWarning: Trying to unpickle estimator LinearRegression from version 1.5.0 when using version 1.5.2. This might lead to breaking code or invalid results. Use at your own risk. For more info please refer to:\n",
      "https://scikit-learn.org/stable/model_persistence.html#security-maintainability-limitations\n",
      "  warnings.warn(\n"
     ]
    }
   ],
   "source": [
    "with open('models/model.bin', 'rb') as f_in:\n",
    "    dv, model = pickle.load(f_in)"
   ]
  },
  {
   "cell_type": "code",
   "execution_count": 7,
   "id": "d779dfbc",
   "metadata": {},
   "outputs": [],
   "source": [
    "categorical = ['PULocationID', 'DOLocationID']\n",
    "\n",
    "def read_data(filename):\n",
    "    df = pd.read_parquet(filename)\n",
    "    \n",
    "    df['duration'] = df.tpep_dropoff_datetime - df.tpep_pickup_datetime\n",
    "    df['duration'] = df.duration.dt.total_seconds() / 60\n",
    "\n",
    "    df = df[(df.duration >= 1) & (df.duration <= 60)].copy()\n",
    "\n",
    "    df[categorical] = df[categorical].fillna(-1).astype('int').astype('str')\n",
    "    \n",
    "    return df"
   ]
  },
  {
   "cell_type": "code",
   "execution_count": 8,
   "id": "77de2a2b",
   "metadata": {},
   "outputs": [],
   "source": [
    "df = read_data('https://d37ci6vzurychx.cloudfront.net/trip-data/yellow_tripdata_2023-03.parquet')"
   ]
  },
  {
   "cell_type": "code",
   "execution_count": 9,
   "id": "e5ce3a2d",
   "metadata": {},
   "outputs": [],
   "source": [
    "dicts = df[categorical].to_dict(orient='records')\n",
    "X_val = dv.transform(dicts)\n",
    "y_pred = model.predict(X_val)"
   ]
  },
  {
   "cell_type": "code",
   "execution_count": 10,
   "id": "c197d40c",
   "metadata": {},
   "outputs": [
    {
     "data": {
      "text/plain": [
       "6.247488852238703"
      ]
     },
     "execution_count": 10,
     "metadata": {},
     "output_type": "execute_result"
    }
   ],
   "source": [
    "y_pred.std()"
   ]
  },
  {
   "cell_type": "markdown",
   "id": "e8f89a99",
   "metadata": {},
   "source": [
    "Q1: 6.24"
   ]
  },
  {
   "cell_type": "code",
   "execution_count": 13,
   "id": "32fb71e9",
   "metadata": {},
   "outputs": [],
   "source": [
    "df['ride_id'] = f'2023/03_' + df.index.astype('str')"
   ]
  },
  {
   "cell_type": "code",
   "execution_count": 19,
   "id": "40ede52f",
   "metadata": {},
   "outputs": [],
   "source": [
    "df_q2 = pd.DataFrame()\n",
    "df_q2['ride_id'] = df['ride_id']\n",
    "df_q2['predicted_duration'] = y_pred\n",
    "df_q2.to_parquet(\n",
    "    'q2_output_file',\n",
    "    engine='pyarrow',\n",
    "    compression=None,\n",
    "    index=False\n",
    ")"
   ]
  },
  {
   "cell_type": "code",
   "execution_count": 20,
   "id": "007be7b8",
   "metadata": {},
   "outputs": [
    {
     "name": "stdout",
     "output_type": "stream",
     "text": [
      "-rw-rw-r-- 1 cloud_user cloud_user 66M Oct 27 09:57 q2_output_file\r\n"
     ]
    }
   ],
   "source": [
    "!ls -lh q2_output_file"
   ]
  },
  {
   "cell_type": "markdown",
   "id": "8ade5110",
   "metadata": {},
   "source": [
    "Q2: 66M"
   ]
  },
  {
   "cell_type": "code",
   "execution_count": 21,
   "id": "4d9dd86a",
   "metadata": {},
   "outputs": [
    {
     "name": "stdout",
     "output_type": "stream",
     "text": [
      "[NbConvertApp] Converting notebook Homework #4.ipynb to script\n",
      "[NbConvertApp] Writing 1405 bytes to Homework #4.py\n"
     ]
    }
   ],
   "source": [
    "!jupyter nbconvert --to script 'Homework #4.ipynb'"
   ]
  },
  {
   "cell_type": "markdown",
   "id": "21417680",
   "metadata": {},
   "source": [
    "Q4: jupyter nbconvert --to script 'Homework #4.ipynb'"
   ]
  },
  {
   "cell_type": "code",
   "execution_count": 22,
   "id": "26a9193c",
   "metadata": {},
   "outputs": [
    {
     "name": "stdout",
     "output_type": "stream",
     "text": [
      "\u001b[0;32m\"sha256:057b991ac64b3e75c9c04b5f9395eaf19a6179244c089afdebaad98264bff37c\"\u001b[0m\r\n"
     ]
    }
   ],
   "source": [
    "!cat Pipfile.lock | jq '.default.\"scikit-learn\".hashes[0]'"
   ]
  },
  {
   "cell_type": "markdown",
   "id": "069276b7",
   "metadata": {},
   "source": [
    "Q3: \"sha256:057b991ac64b3e75c9c04b5f9395eaf19a6179244c089afdebaad98264bff37c\""
   ]
  },
  {
   "cell_type": "code",
   "execution_count": 26,
   "id": "075ba2b4",
   "metadata": {},
   "outputs": [
    {
     "name": "stdout",
     "output_type": "stream",
     "text": [
      "/home/cloud_user/anaconda3/lib/python3.9/site-packages/pandas/core/computation/expressions.py:21: UserWarning: Pandas requires version '2.8.4' or newer of 'numexpr' (version '2.8.1' currently installed).\n",
      "  from pandas.core.computation.check import NUMEXPR_INSTALLED\n",
      "/home/cloud_user/anaconda3/lib/python3.9/site-packages/pandas/core/arrays/masked.py:60: UserWarning: Pandas requires version '1.3.6' or newer of 'bottleneck' (version '1.3.4' currently installed).\n",
      "  from pandas.core import (\n",
      "/home/cloud_user/anaconda3/lib/python3.9/site-packages/sklearn/base.py:376: InconsistentVersionWarning: Trying to unpickle estimator DictVectorizer from version 1.5.0 when using version 1.5.2. This might lead to breaking code or invalid results. Use at your own risk. For more info please refer to:\n",
      "https://scikit-learn.org/stable/model_persistence.html#security-maintainability-limitations\n",
      "  warnings.warn(\n",
      "/home/cloud_user/anaconda3/lib/python3.9/site-packages/sklearn/base.py:376: InconsistentVersionWarning: Trying to unpickle estimator LinearRegression from version 1.5.0 when using version 1.5.2. This might lead to breaking code or invalid results. Use at your own risk. For more info please refer to:\n",
      "https://scikit-learn.org/stable/model_persistence.html#security-maintainability-limitations\n",
      "  warnings.warn(\n",
      "14.292282936862449\n"
     ]
    }
   ],
   "source": [
    "!python3 'Homework #4.py' '2023' '04' 'models/model.bin'"
   ]
  },
  {
   "cell_type": "markdown",
   "id": "60c18d23",
   "metadata": {},
   "source": [
    "Q5: 14.29"
   ]
  },
  {
   "cell_type": "code",
   "execution_count": 27,
   "id": "09068694",
   "metadata": {},
   "outputs": [
    {
     "name": "stdout",
     "output_type": "stream",
     "text": [
      "0.19174419265916945\r\n"
     ]
    }
   ],
   "source": [
    "!docker run homework_4 '2023' '05' '/app/model.bin'"
   ]
  },
  {
   "cell_type": "markdown",
   "id": "9265877e",
   "metadata": {},
   "source": [
    "Q6: 0.19"
   ]
  },
  {
   "cell_type": "code",
   "execution_count": null,
   "id": "8138bb37",
   "metadata": {},
   "outputs": [],
   "source": []
  }
 ],
 "metadata": {
  "kernelspec": {
   "display_name": "Python 3 (ipykernel)",
   "language": "python",
   "name": "python3"
  },
  "language_info": {
   "codemirror_mode": {
    "name": "ipython",
    "version": 3
   },
   "file_extension": ".py",
   "mimetype": "text/x-python",
   "name": "python",
   "nbconvert_exporter": "python",
   "pygments_lexer": "ipython3",
   "version": "3.9.12"
  }
 },
 "nbformat": 4,
 "nbformat_minor": 5
}
